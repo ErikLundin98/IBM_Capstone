{
 "cells": [
  {
   "cell_type": "markdown",
   "source": [
    "# Deciding on and deploying the final model\r\n",
    "\r\n",
    "Now, we have a few different models to compare. From notebook 3 and 4 we conclude that a more advanced model isnt always better, especially not when the dataset is small. We therefore decide to use the logistic regression model from notebook 3\r\n",
    "\r\n",
    "\r\n",
    "I would imagine that a model like this would be deployed onto the cloud and receive data from health care centers, or home patients that measure their own data and send it via a health care app etc, it makes sense to have the model on a server that can accept HTTP requests and send back a prediction. Therefore, this notebook describes that process. \r\n",
    "\r\n",
    "The model is deployed via a Flask web app, which accepts JSON data via POST requests and sends a response that says if the requester has a higher or lower chance of having a heart attack. Please see the implementation of this in. First, install flask:"
   ],
   "metadata": {}
  },
  {
   "cell_type": "code",
   "execution_count": 13,
   "source": [
    "!pip install flask"
   ],
   "outputs": [
    {
     "output_type": "stream",
     "name": "stdout",
     "text": [
      "Requirement already satisfied: flask in c:\\users\\cerik\\appdata\\local\\programs\\python\\python39\\lib\\site-packages (2.0.1)\n",
      "Requirement already satisfied: click>=7.1.2 in c:\\users\\cerik\\appdata\\local\\programs\\python\\python39\\lib\\site-packages (from flask) (8.0.1)\n",
      "Requirement already satisfied: itsdangerous>=2.0 in c:\\users\\cerik\\appdata\\local\\programs\\python\\python39\\lib\\site-packages (from flask) (2.0.1)\n",
      "Requirement already satisfied: Werkzeug>=2.0 in c:\\users\\cerik\\appdata\\local\\programs\\python\\python39\\lib\\site-packages (from flask) (2.0.1)\n",
      "Requirement already satisfied: Jinja2>=3.0 in c:\\users\\cerik\\appdata\\local\\programs\\python\\python39\\lib\\site-packages (from flask) (3.0.1)\n",
      "Requirement already satisfied: colorama in c:\\users\\cerik\\appdata\\roaming\\python\\python39\\site-packages (from click>=7.1.2->flask) (0.4.4)\n",
      "Requirement already satisfied: MarkupSafe>=2.0 in c:\\users\\cerik\\appdata\\local\\programs\\python\\python39\\lib\\site-packages (from Jinja2>=3.0->flask) (2.0.1)\n"
     ]
    }
   ],
   "metadata": {}
  },
  {
   "cell_type": "markdown",
   "source": [
    "First, run the server in server.py. Then, execute the following blocks of code"
   ],
   "metadata": {}
  },
  {
   "cell_type": "code",
   "execution_count": 14,
   "source": [
    "import requests\r\n",
    "\r\n",
    "ENDPOINT_URL = 'http://127.0.0.1:5000/'\r\n",
    "print('test request to see if server is working')\r\n",
    "res = requests.get(ENDPOINT_URL)\r\n",
    "print(res.content)"
   ],
   "outputs": [
    {
     "output_type": "stream",
     "name": "stdout",
     "text": [
      "test request to see if server is working\n",
      "b'hello user! please send a response at the /predict path instead'\n"
     ]
    }
   ],
   "metadata": {}
  },
  {
   "cell_type": "markdown",
   "source": [
    "If its working, you should get a 'hello user!' response. The following snippet sends measurements to the server and returns a prediction of a sick user which should be advised to go to the doctor "
   ],
   "metadata": {}
  },
  {
   "cell_type": "code",
   "execution_count": 15,
   "source": [
    "import json\r\n",
    "\r\n",
    "post_dict = {\r\n",
    "    \"SSN\": \"99999999-9999\",\r\n",
    "    \"Name\": \"Erkimus Prime\",\r\n",
    "    \"Data\": [1,0,0,0,0,0,1,50,1,145,233,150,0,2.3,0,0,1] # has label 1\r\n",
    "}\r\n",
    "json_obj = json.dumps(post_dict)\r\n",
    "\r\n",
    "res = requests.post(ENDPOINT_URL+'predict', json=json_obj)\r\n",
    "print(res.content)\r\n"
   ],
   "outputs": [
    {
     "output_type": "stream",
     "name": "stdout",
     "text": [
      "b'Hi Erkimus Prime! You should get examined right now!'\n"
     ]
    }
   ],
   "metadata": {}
  },
  {
   "cell_type": "markdown",
   "source": [
    "And the following for a user that shouldn't get advised to go to the doctor"
   ],
   "metadata": {}
  },
  {
   "cell_type": "code",
   "execution_count": 17,
   "source": [
    "post_dict = {\r\n",
    "    \"SSN\": \"99999999-9999\",\r\n",
    "    \"Name\": \"Erkimas Dime\",\r\n",
    "    \"Data\": [0,1,0,1,0,0,0,57,1,130,131,115,1,1.2,1,1,3] # has label 0\r\n",
    "}\r\n",
    "json_obj = json.dumps(post_dict)\r\n",
    "\r\n",
    "res = requests.post(ENDPOINT_URL+'predict', json=json_obj)\r\n",
    "print(res.content)"
   ],
   "outputs": [
    {
     "output_type": "stream",
     "name": "stdout",
     "text": [
      "b\"Hi Erkimas Dime, you are healthy and don't need to be examined\"\n"
     ]
    }
   ],
   "metadata": {}
  },
  {
   "cell_type": "markdown",
   "source": [
    "Although this is a simple implementation, it works!"
   ],
   "metadata": {}
  }
 ],
 "metadata": {
  "orig_nbformat": 4,
  "language_info": {
   "name": "python"
  }
 },
 "nbformat": 4,
 "nbformat_minor": 2
}
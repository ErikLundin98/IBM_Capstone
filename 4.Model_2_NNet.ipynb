{
 "cells": [
  {
   "cell_type": "markdown",
   "source": [
    "# This notebook documents and contains code for training and saving a neural network on the engineered data\r\n",
    "\r\n",
    "first, lets import the data and split it into a test and training set. L"
   ],
   "metadata": {}
  },
  {
   "cell_type": "code",
   "execution_count": null,
   "source": [
    "!pip install pandas \r\n",
    "!pip install numpy\r\n",
    "!pip install scikit-learn\r\n",
    "!pip install torch"
   ],
   "outputs": [],
   "metadata": {}
  },
  {
   "cell_type": "code",
   "execution_count": 14,
   "source": [
    "import pandas as pd\r\n",
    "from sklearn.model_selection import train_test_split\r\n",
    "df = pd.read_csv('data/post_FE.csv')\r\n",
    "data = df.to_numpy()\r\n",
    "X = data[:,:-1]\r\n",
    "y = data[:,-1]\r\n",
    "\r\n",
    "\r\n",
    "\r\n",
    "X_train, X_test, y_train, y_test = train_test_split(X, y, test_size=0.2, random_state=2)\r\n",
    "print(X_train.shape, X_test.shape)"
   ],
   "outputs": [
    {
     "output_type": "stream",
     "name": "stdout",
     "text": [
      "(242, 18) (61, 18)\n"
     ]
    }
   ],
   "metadata": {}
  },
  {
   "cell_type": "markdown",
   "source": [
    "Now, lets define the model. Since we arent dealing with time series, images or any other \"special\" type of data, we will just create a neural net without any hocus pocus first, just a bunch of dense layers and activation functions\r\n",
    "\r\n",
    "First we define the hyperparameters"
   ],
   "metadata": {}
  },
  {
   "cell_type": "code",
   "execution_count": 15,
   "source": [
    "EPOCHS = 400 # Have tried epochs ranging from 10-1000\r\n",
    "BATCH_SIZE = 64 # Have tried 64, 32, 16, 4\r\n",
    "LEARNING_RATE = 0.001\r\n",
    "INPUT_FEATURES = X.shape[1]\r\n",
    "OUTPUT_CLASSES = 2"
   ],
   "outputs": [],
   "metadata": {}
  },
  {
   "cell_type": "markdown",
   "source": [
    "Now, we create the dataset (convert into iterable tensors for pytorch to use)"
   ],
   "metadata": {}
  },
  {
   "cell_type": "code",
   "execution_count": 16,
   "source": [
    "import torch\r\n",
    "\r\n",
    "class Dataset(torch.utils.data.Dataset):\r\n",
    "    def __init__(self, X, y=None):\r\n",
    "        super(Dataset, self).__init__()\r\n",
    "        self.X = X\r\n",
    "        self.y = y\r\n",
    "    \r\n",
    "    def __getitem__(self, index):\r\n",
    "        return self.X[index], self.y[index]\r\n",
    "        \r\n",
    "    \r\n",
    "    def __len__(self):\r\n",
    "        return len(self.X)\r\n",
    "\r\n",
    "# Create datasets\r\n",
    "train_data = Dataset(torch.Tensor(X_train), torch.Tensor(y_train))\r\n",
    "test_data = Dataset(torch.Tensor(X_test), torch.Tensor(y_test))\r\n",
    "\r\n",
    "# Create dataloaders for our datasets\r\n",
    "train_loader = torch.utils.data.DataLoader(dataset=train_data, batch_size=BATCH_SIZE)\r\n",
    "test_loader = torch.utils.data.DataLoader(dataset=test_data, batch_size=X_test.shape[0])\r\n",
    "\r\n",
    "X_test.shape[0], X_train.shape[0]\r\n"
   ],
   "outputs": [
    {
     "output_type": "execute_result",
     "data": {
      "text/plain": [
       "(61, 242)"
      ]
     },
     "metadata": {},
     "execution_count": 16
    }
   ],
   "metadata": {}
  },
  {
   "cell_type": "markdown",
   "source": [
    "Now its time to define the first version of out model"
   ],
   "metadata": {}
  },
  {
   "cell_type": "code",
   "execution_count": 17,
   "source": [
    "from torch import nn\r\n",
    "\r\n",
    "class Model1(nn.Module):\r\n",
    "    def __init__(self, inputs, outputs):\r\n",
    "        super(Model1, self).__init__()\r\n",
    "        self.inputs = inputs\r\n",
    "        self.outputs = outputs\r\n",
    "        \r\n",
    "        self.input = nn.Linear(inputs, 32)\r\n",
    "        self.seq = nn.Sequential(\r\n",
    "            nn.Linear(32, 32, bias=False), # the dataset already contains bias\r\n",
    "            nn.ReLU(),\r\n",
    "            nn.Linear(32, 32, bias=False),\r\n",
    "            nn.ReLU(),\r\n",
    "            nn.Linear(32, 32, bias=False),\r\n",
    "        )\r\n",
    "        self.out = nn.Linear(32, 1)\r\n",
    "    \r\n",
    "    def forward(self, x):\r\n",
    "        x = self.input(x)\r\n",
    "        x = self.seq(x)\r\n",
    "        x = self.out(x)\r\n",
    "        return x\r\n"
   ],
   "outputs": [],
   "metadata": {}
  },
  {
   "cell_type": "markdown",
   "source": [
    "Now we have our first model version created! Lets create a function for training the model that we can reuse to test and compare different models!"
   ],
   "metadata": {}
  },
  {
   "cell_type": "code",
   "execution_count": 18,
   "source": [
    "def accuracy(predictions, labels):\r\n",
    "    correct = (torch.round(torch.sigmoid(predictions)) == labels).sum().float()\r\n",
    "    return correct/labels.shape[0]\r\n",
    "\r\n",
    "\r\n",
    "def train_and_evaluate_model(model, loss_fn, optimizer, epochs, train_loader, test_loader, device, supress_output=False):\r\n",
    "\r\n",
    "    progress_dict = {\r\n",
    "        'train_acc' : [],\r\n",
    "        'loss' : [],\r\n",
    "        'test_preds' : [],\r\n",
    "        'test_acc': []\r\n",
    "    }\r\n",
    "    for epoch in range(1, epochs):\r\n",
    "        epoch_train_acc = 0\r\n",
    "        epoch_test_acc = 0\r\n",
    "        epoch_loss = 0\r\n",
    "\r\n",
    "        \r\n",
    "        # train the model\r\n",
    "        model.train()\r\n",
    "        for X, y in train_loader:\r\n",
    "\r\n",
    "            X = X.to(device)\r\n",
    "            y = y.to(device)\r\n",
    "            optimizer.zero_grad()\r\n",
    "            y_pred = model(X)\r\n",
    "\r\n",
    "            loss = loss_fn(y_pred, y.unsqueeze(1))\r\n",
    "            acc = accuracy(y_pred, y.unsqueeze(1))\r\n",
    "            loss.backward()\r\n",
    "            optimizer.step()\r\n",
    "\r\n",
    "            epoch_loss += loss.item()\r\n",
    "            epoch_train_acc += acc.item()\r\n",
    "\r\n",
    "        progress_dict['train_acc'].append(epoch_train_acc/len(train_loader))\r\n",
    "        progress_dict['loss'].append(epoch_loss/len(train_loader))\r\n",
    "\r\n",
    "\r\n",
    "        # evaluate the model on the training data for each epoch\r\n",
    "        model.eval()\r\n",
    "        with torch.no_grad():\r\n",
    "            for X, y in test_loader: # Only one single batch!\r\n",
    "                X = X.to(device)\r\n",
    "                test_pred = model(X)\r\n",
    "                progress_dict['test_preds'].append(torch.round(torch.sigmoid(test_pred)).numpy()) # append complete prediction list\r\n",
    "                progress_dict['test_acc'].append(accuracy(test_pred, y.unsqueeze(1)))\r\n",
    "                # TODO: Calculate confusion matric and accuracy and append instead\r\n",
    "\r\n",
    "        if not supress_output and epoch % 20 == 0:\r\n",
    "            print('Epoch', epoch, ':test accuracy', progress_dict['test_acc'][epoch-1].item(), 'loss', progress_dict['loss'][epoch-1])\r\n",
    "    \r\n",
    "    return progress_dict\r\n",
    "    \r\n"
   ],
   "outputs": [],
   "metadata": {}
  },
  {
   "cell_type": "code",
   "execution_count": 19,
   "source": [
    "# Select which device to perform training on\r\n",
    "\r\n",
    "device = torch.device(\"cuda:0\" if torch.cuda.is_available() else \"cpu\")\r\n",
    "print('device:', device)"
   ],
   "outputs": [
    {
     "output_type": "stream",
     "name": "stdout",
     "text": [
      "device: cpu\n"
     ]
    }
   ],
   "metadata": {}
  },
  {
   "cell_type": "code",
   "execution_count": 20,
   "source": [
    "import numpy as np\r\n",
    "\r\n",
    "model1 = Model1(inputs=INPUT_FEATURES, outputs=OUTPUT_CLASSES)\r\n",
    "model1.to(device)\r\n",
    "print(model1)\r\n",
    "loss = nn.BCEWithLogitsLoss()\r\n",
    "optimizer = torch.optim.Adam(model1.parameters(), lr=LEARNING_RATE)\r\n",
    "\r\n",
    "stats1 = train_and_evaluate_model(model=model1, loss_fn=loss, optimizer=optimizer, epochs=EPOCHS, \r\n",
    "                        train_loader=train_loader, test_loader=test_loader, device=device)\r\n",
    "\r\n",
    "test_accuracies = stats1['test_acc']\r\n",
    "best_epoch = np.argmax(test_accuracies)\r\n",
    "print('best epoch test performance at epoch', best_epoch, 'with accuracy', test_accuracies[best_epoch])"
   ],
   "outputs": [
    {
     "output_type": "stream",
     "name": "stdout",
     "text": [
      "Model1(\n",
      "  (input): Linear(in_features=18, out_features=32, bias=True)\n",
      "  (seq): Sequential(\n",
      "    (0): Linear(in_features=32, out_features=32, bias=False)\n",
      "    (1): ReLU()\n",
      "    (2): Linear(in_features=32, out_features=32, bias=False)\n",
      "    (3): ReLU()\n",
      "    (4): Linear(in_features=32, out_features=32, bias=False)\n",
      "  )\n",
      "  (out): Linear(in_features=32, out_features=1, bias=True)\n",
      ")\n",
      "Epoch 20 :test accuracy 0.8196721076965332 loss 0.37350790947675705\n",
      "Epoch 40 :test accuracy 0.7868852615356445 loss 0.3291107639670372\n",
      "Epoch 60 :test accuracy 0.8032786846160889 loss 0.29861679673194885\n",
      "Epoch 80 :test accuracy 0.8196721076965332 loss 0.25840288773179054\n",
      "Epoch 100 :test accuracy 0.8524590134620667 loss 0.20775703340768814\n",
      "Epoch 120 :test accuracy 0.8852459192276001 loss 0.16269992664456367\n",
      "Epoch 140 :test accuracy 0.8852459192276001 loss 0.12620466202497482\n",
      "Epoch 160 :test accuracy 0.8852459192276001 loss 0.1007061917334795\n",
      "Epoch 180 :test accuracy 0.8852459192276001 loss 0.07492768298834562\n",
      "Epoch 200 :test accuracy 0.8852459192276001 loss 0.05570516362786293\n",
      "Epoch 220 :test accuracy 0.8852459192276001 loss 0.03838884271681309\n",
      "Epoch 240 :test accuracy 0.8852459192276001 loss 0.02592235431075096\n",
      "Epoch 260 :test accuracy 0.8852459192276001 loss 0.017782315611839294\n",
      "Epoch 280 :test accuracy 0.8852459192276001 loss 0.0131437728414312\n",
      "Epoch 300 :test accuracy 0.8852459192276001 loss 0.013144140248186886\n",
      "Epoch 320 :test accuracy 0.8524590134620667 loss 0.006702992948703468\n",
      "Epoch 340 :test accuracy 0.868852436542511 loss 0.005143503309227526\n",
      "Epoch 360 :test accuracy 0.868852436542511 loss 0.004141952842473984\n",
      "Epoch 380 :test accuracy 0.868852436542511 loss 0.003355767927132547\n",
      "best epoch test performance at epoch 112 with accuracy tensor(0.8852)\n"
     ]
    }
   ],
   "metadata": {}
  },
  {
   "cell_type": "markdown",
   "source": [
    "This model works pretty well, although a cross-validation is needed to get a fair comparison to our SVM from step 3. Now, I want to try another model"
   ],
   "metadata": {}
  },
  {
   "cell_type": "code",
   "execution_count": 21,
   "source": [
    "# Test another model:\r\n",
    "from torch import nn\r\n",
    "\r\n",
    "class Model2(nn.Module):\r\n",
    "    def __init__(self, inputs, outputs):\r\n",
    "        super(Model2, self).__init__()\r\n",
    "        self.inputs = inputs\r\n",
    "        self.outputs = outputs\r\n",
    "        \r\n",
    "        self.input = nn.Linear(inputs, 128)\r\n",
    "        self.seq = nn.Sequential(\r\n",
    "            nn.Linear(128, 128, bias=False), # the dataset already contains bias\r\n",
    "            nn.Tanh(),\r\n",
    "            nn.Linear(128, 128, bias=False),\r\n",
    "            nn.Tanh(),\r\n",
    "            nn.Linear(128, 128, bias=False), # the dataset already contains bias\r\n",
    "            nn.Tanh(),\r\n",
    "            nn.Linear(128, 128, bias=False), # the dataset already contains bias\r\n",
    "            nn.Tanh(),\r\n",
    "            nn.Linear(128, 8, bias=False), # the dataset already contains bias\r\n",
    "        )\r\n",
    "        self.out = nn.Linear(8, 1)\r\n",
    "    \r\n",
    "    def forward(self, x):\r\n",
    "        x = self.input(x)\r\n",
    "        x = self.seq(x)\r\n",
    "        x = self.out(x)\r\n",
    "        return x\r\n",
    "\r\n",
    "\r\n",
    "model2 = Model2(inputs=INPUT_FEATURES, outputs=OUTPUT_CLASSES)\r\n",
    "model2.to(device)\r\n",
    "print(model2)\r\n",
    "loss = nn.BCEWithLogitsLoss()\r\n",
    "optimizer = torch.optim.Adam(model2.parameters(), lr=LEARNING_RATE)\r\n",
    "\r\n",
    "stats2 = train_and_evaluate_model(model=model2, loss_fn=loss, optimizer=optimizer, epochs=EPOCHS, \r\n",
    "                        train_loader=train_loader, test_loader=test_loader, device=device)\r\n",
    "\r\n",
    "test_accuracies = stats2['test_acc']\r\n",
    "best_epoch = np.argmax(test_accuracies)\r\n",
    "print('best epoch test performance at epoch', best_epoch, 'with accuracy', test_accuracies[best_epoch])"
   ],
   "outputs": [
    {
     "output_type": "stream",
     "name": "stdout",
     "text": [
      "Model2(\n",
      "  (input): Linear(in_features=18, out_features=128, bias=True)\n",
      "  (seq): Sequential(\n",
      "    (0): Linear(in_features=128, out_features=128, bias=False)\n",
      "    (1): Tanh()\n",
      "    (2): Linear(in_features=128, out_features=128, bias=False)\n",
      "    (3): Tanh()\n",
      "    (4): Linear(in_features=128, out_features=128, bias=False)\n",
      "    (5): Tanh()\n",
      "    (6): Linear(in_features=128, out_features=128, bias=False)\n",
      "    (7): Tanh()\n",
      "    (8): Linear(in_features=128, out_features=8, bias=False)\n",
      "  )\n",
      "  (out): Linear(in_features=8, out_features=1, bias=True)\n",
      ")\n",
      "Epoch 20 :test accuracy 0.8032786846160889 loss 0.34065549075603485\n",
      "Epoch 40 :test accuracy 0.8032786846160889 loss 0.3278341740369797\n",
      "Epoch 60 :test accuracy 0.8032786846160889 loss 0.25719664990901947\n",
      "Epoch 80 :test accuracy 0.7540983557701111 loss 0.23718272149562836\n",
      "Epoch 100 :test accuracy 0.8196721076965332 loss 0.15226822905242443\n",
      "Epoch 120 :test accuracy 0.8196721076965332 loss 0.160201046615839\n",
      "Epoch 140 :test accuracy 0.8196721076965332 loss 0.1003815196454525\n",
      "Epoch 160 :test accuracy 0.8032786846160889 loss 0.18941881135106087\n",
      "Epoch 180 :test accuracy 0.8360655903816223 loss 0.07480612304061651\n",
      "Epoch 200 :test accuracy 0.8360655903816223 loss 0.0623994751367718\n",
      "Epoch 220 :test accuracy 0.8196721076965332 loss 0.05636802827939391\n",
      "Epoch 240 :test accuracy 0.8360655903816223 loss 0.04995920765213668\n",
      "Epoch 260 :test accuracy 0.8360655903816223 loss 0.03194672800600529\n",
      "Epoch 280 :test accuracy 0.8360655903816223 loss 0.013704691955354065\n",
      "Epoch 300 :test accuracy 0.8196721076965332 loss 0.004959271172992885\n",
      "Epoch 320 :test accuracy 0.8196721076965332 loss 0.00853509955049958\n",
      "Epoch 340 :test accuracy 0.8032786846160889 loss 0.048356259474530816\n",
      "Epoch 360 :test accuracy 0.8196721076965332 loss 0.00819115445483476\n",
      "Epoch 380 :test accuracy 0.8196721076965332 loss 0.0035125584399793297\n",
      "best epoch test performance at epoch 3 with accuracy tensor(0.8525)\n"
     ]
    }
   ],
   "metadata": {}
  },
  {
   "cell_type": "markdown",
   "source": [
    "Now that we have created, trained and tested two models, lets compare the two with some plots!"
   ],
   "metadata": {}
  },
  {
   "cell_type": "code",
   "execution_count": 22,
   "source": [
    "from matplotlib import pyplot as plt\r\n",
    "\r\n",
    "fig, axs = plt.subplots(3)\r\n",
    "\r\n",
    "axs[0].plot(stats1['loss'], label='model 1')\r\n",
    "axs[0].plot(stats2['loss'], label='model 2')\r\n",
    "axs[0].set_title('Loss')\r\n",
    "axs[1].plot(stats1['train_acc'])\r\n",
    "axs[1].plot(stats2['train_acc'])\r\n",
    "axs[1].set_title('Training accuracy')\r\n",
    "\r\n",
    "axs[2].plot(stats1['test_acc'])\r\n",
    "axs[2].plot(stats2['test_acc'])\r\n",
    "axs[2].set_title('Testing accuracy')\r\n",
    "fig.legend(loc='lower right')\r\n",
    "\r\n",
    "fig.tight_layout()\r\n",
    "\r\n",
    "fig.savefig('images/NN_comp.png', dpi=300)\r\n"
   ],
   "outputs": [
    {
     "output_type": "display_data",
     "data": {
      "text/plain": [
       "<Figure size 432x288 with 3 Axes>"
      ],
      "image/png": "[encoded data removed]"
     },
     "metadata": {
      "needs_background": "light"
     }
    }
   ],
   "metadata": {}
  },
  {
   "cell_type": "markdown",
   "source": [
    "Both models seem to perform rather well! Model 1 performs slightly better in stability during training, so let's cross-validate that model"
   ],
   "metadata": {}
  },
  {
   "cell_type": "code",
   "execution_count": 23,
   "source": [
    "from sklearn.model_selection import KFold\r\n",
    "import numpy as np\r\n",
    "# Perform manual KFold cross-validation\r\n",
    "kf = KFold(n_splits = 10) # Same amount of splits as for Logistic Regression\r\n",
    "kf.get_n_splits(X)\r\n",
    "\r\n",
    "test_accuracies = stats1['test_acc']\r\n",
    "EPOCHS = np.argmax(test_accuracies) # best epoch seen to testing performance\r\n",
    "print(EPOCHS)\r\n",
    "# We are interested in saving the test accuracies\r\n",
    "test_accuracies = []\r\n",
    "for train_index, test_index in kf.split(X):\r\n",
    "    X_train, X_test = X[train_index], X[test_index]\r\n",
    "    y_train, y_test = y[train_index], y[test_index]\r\n",
    "    print(len(train_index), len(test_index))\r\n",
    "    # Now, for each set of data, we train the neural network 2 for the optimal amount of epochs\r\n",
    "\r\n",
    "    # Create datasets\r\n",
    "    train_data = Dataset(torch.Tensor(X_train), torch.Tensor(y_train))\r\n",
    "    test_data = Dataset(torch.Tensor(X_test), torch.Tensor(y_test))\r\n",
    "\r\n",
    "    # Create dataloaders for our datasets\r\n",
    "    train_loader = torch.utils.data.DataLoader(dataset=train_data, batch_size=BATCH_SIZE)\r\n",
    "    test_loader = torch.utils.data.DataLoader(dataset=test_data, batch_size=X_test.shape[0])\r\n",
    "    # Given that performance was identical, we choose the simple network for speed\r\n",
    "    cross_val_model = Model1(inputs=INPUT_FEATURES, outputs=OUTPUT_CLASSES)\r\n",
    "    loss = nn.BCEWithLogitsLoss()\r\n",
    "    optimizer = torch.optim.Adam(cross_val_model.parameters(), lr=LEARNING_RATE)\r\n",
    "\r\n",
    "    stats = train_and_evaluate_model(model=cross_val_model, loss_fn=loss, optimizer=optimizer, epochs=EPOCHS, \r\n",
    "                        train_loader=train_loader, test_loader=test_loader, device=device, supress_output=True)\r\n",
    "    \r\n",
    "    test_acc = stats['test_acc'][-1] # the last one\r\n",
    "    print('fold test accuracy:', test_acc)\r\n",
    "    test_accuracies.append(test_acc)\r\n",
    "\r\n",
    "print('average cross-validated test accuracy:', np.mean(test_accuracies))\r\n"
   ],
   "outputs": [
    {
     "output_type": "stream",
     "name": "stdout",
     "text": [
      "112\n",
      "272 31\n",
      "fold test accuracy: tensor(0.7742)\n",
      "272 31\n",
      "fold test accuracy: tensor(0.8065)\n",
      "272 31\n",
      "fold test accuracy: tensor(0.8065)\n",
      "273 30\n",
      "fold test accuracy: tensor(0.8000)\n",
      "273 30\n",
      "fold test accuracy: tensor(0.7333)\n",
      "273 30\n",
      "fold test accuracy: tensor(0.8333)\n",
      "273 30\n",
      "fold test accuracy: tensor(0.8333)\n",
      "273 30\n",
      "fold test accuracy: tensor(0.7000)\n",
      "273 30\n",
      "fold test accuracy: tensor(0.9333)\n",
      "273 30\n",
      "fold test accuracy: tensor(0.8000)\n",
      "average cross-validated test accuracy: 0.80204296\n"
     ]
    }
   ],
   "metadata": {}
  },
  {
   "cell_type": "markdown",
   "source": [
    "After trying many different model architectures, I concluded that a neural network did not give a boost in performance over more traditional models like the support vector machines. This could be due to the smaller dataset of around 300 records- a deep neural net would likely need more data to work well. Nonetheless, lets save the model if we are to use it later on/deploy it in a real setting"
   ],
   "metadata": {}
  },
  {
   "cell_type": "code",
   "execution_count": 24,
   "source": [
    "\r\n",
    "# Create datasets\r\n",
    "train_data = Dataset(torch.Tensor(X), torch.Tensor(y))\r\n",
    "test_data = Dataset(torch.Tensor(X), torch.Tensor(y))\r\n",
    "\r\n",
    "# Create dataloaders for our datasets\r\n",
    "train_loader = torch.utils.data.DataLoader(dataset=train_data, batch_size=BATCH_SIZE)\r\n",
    "test_loader = torch.utils.data.DataLoader(dataset=test_data, batch_size=X_test.shape[0])\r\n",
    "# Given that performance was identical, we choose the simple network for speed\r\n",
    "model = Model2(inputs=INPUT_FEATURES, outputs=OUTPUT_CLASSES)\r\n",
    "loss = nn.BCEWithLogitsLoss()\r\n",
    "optimizer = torch.optim.Adam(model.parameters(), lr=LEARNING_RATE)\r\n",
    "\r\n",
    "train_and_evaluate_model(model=model, loss_fn=loss, optimizer=optimizer, epochs=EPOCHS, \r\n",
    "                    train_loader=train_loader, test_loader=test_loader, device=device, supress_output=False)\r\n",
    "\r\n",
    "torch.save(model, 'model/final_NN_model.pt')\r\n"
   ],
   "outputs": [
    {
     "output_type": "stream",
     "name": "stdout",
     "text": [
      "Epoch 20 :test accuracy 0.800000011920929 loss 0.34741784930229186\n",
      "Epoch 40 :test accuracy 0.8666666746139526 loss 0.34045096635818484\n",
      "Epoch 60 :test accuracy 0.800000011920929 loss 0.2968127906322479\n",
      "Epoch 80 :test accuracy 0.800000011920929 loss 0.2729609847068787\n",
      "Epoch 100 :test accuracy 0.8333333134651184 loss 0.2243106707930565\n"
     ]
    }
   ],
   "metadata": {}
  }
 ],
 "metadata": {
  "orig_nbformat": 4,
  "language_info": {
   "name": "python"
  }
 },
 "nbformat": 4,
 "nbformat_minor": 2
}
{
 "cells": [
  {
   "cell_type": "markdown",
   "source": [
    "# This notebook documents and contains the code for analyzing and extracting the dataset to save it in a suitable way"
   ],
   "metadata": {}
  },
  {
   "cell_type": "code",
   "execution_count": 1,
   "source": [
    "!pip install pandas \r\n",
    "!pip install numpy\r\n",
    "!pip install seaborn\r\n",
    "!pip install matplotlib"
   ],
   "outputs": [
    {
     "output_type": "stream",
     "name": "stdout",
     "text": [
      "Requirement already satisfied: pandas in c:\\users\\cerik\\appdata\\local\\programs\\python\\python39\\lib\\site-packages (1.2.4)\n",
      "Requirement already satisfied: pytz>=2017.3 in c:\\users\\cerik\\appdata\\local\\programs\\python\\python39\\lib\\site-packages (from pandas) (2021.1)\n",
      "Requirement already satisfied: numpy>=1.16.5 in c:\\users\\cerik\\appdata\\local\\programs\\python\\python39\\lib\\site-packages (from pandas) (1.20.3)\n",
      "Requirement already satisfied: python-dateutil>=2.7.3 in c:\\users\\cerik\\appdata\\roaming\\python\\python39\\site-packages (from pandas) (2.8.1)\n",
      "Requirement already satisfied: six>=1.5 in c:\\users\\cerik\\appdata\\roaming\\python\\python39\\site-packages (from python-dateutil>=2.7.3->pandas) (1.16.0)\n",
      "Requirement already satisfied: numpy in c:\\users\\cerik\\appdata\\local\\programs\\python\\python39\\lib\\site-packages (1.20.3)\n",
      "Requirement already satisfied: seaborn in c:\\users\\cerik\\appdata\\local\\programs\\python\\python39\\lib\\site-packages (0.11.1)\n",
      "Requirement already satisfied: pandas>=0.23 in c:\\users\\cerik\\appdata\\local\\programs\\python\\python39\\lib\\site-packages (from seaborn) (1.2.4)\n",
      "Requirement already satisfied: numpy>=1.15 in c:\\users\\cerik\\appdata\\local\\programs\\python\\python39\\lib\\site-packages (from seaborn) (1.20.3)\n",
      "Requirement already satisfied: matplotlib>=2.2 in c:\\users\\cerik\\appdata\\local\\programs\\python\\python39\\lib\\site-packages (from seaborn) (3.4.2)\n",
      "Requirement already satisfied: scipy>=1.0 in c:\\users\\cerik\\appdata\\local\\programs\\python\\python39\\lib\\site-packages (from seaborn) (1.7.0)\n",
      "Requirement already satisfied: kiwisolver>=1.0.1 in c:\\users\\cerik\\appdata\\local\\programs\\python\\python39\\lib\\site-packages (from matplotlib>=2.2->seaborn) (1.3.1)\n",
      "Requirement already satisfied: cycler>=0.10 in c:\\users\\cerik\\appdata\\local\\programs\\python\\python39\\lib\\site-packages (from matplotlib>=2.2->seaborn) (0.10.0)\n",
      "Requirement already satisfied: python-dateutil>=2.7 in c:\\users\\cerik\\appdata\\roaming\\python\\python39\\site-packages (from matplotlib>=2.2->seaborn) (2.8.1)\n",
      "Requirement already satisfied: pyparsing>=2.2.1 in c:\\users\\cerik\\appdata\\local\\programs\\python\\python39\\lib\\site-packages (from matplotlib>=2.2->seaborn) (2.4.7)\n",
      "Requirement already satisfied: pillow>=6.2.0 in c:\\users\\cerik\\appdata\\local\\programs\\python\\python39\\lib\\site-packages (from matplotlib>=2.2->seaborn) (8.2.0)\n",
      "Requirement already satisfied: six in c:\\users\\cerik\\appdata\\roaming\\python\\python39\\site-packages (from cycler>=0.10->matplotlib>=2.2->seaborn) (1.16.0)\n",
      "Requirement already satisfied: pytz>=2017.3 in c:\\users\\cerik\\appdata\\local\\programs\\python\\python39\\lib\\site-packages (from pandas>=0.23->seaborn) (2021.1)\n",
      "Requirement already satisfied: matplotlib in c:\\users\\cerik\\appdata\\local\\programs\\python\\python39\\lib\\site-packages (3.4.2)\n",
      "Requirement already satisfied: pillow>=6.2.0 in c:\\users\\cerik\\appdata\\local\\programs\\python\\python39\\lib\\site-packages (from matplotlib) (8.2.0)\n",
      "Requirement already satisfied: python-dateutil>=2.7 in c:\\users\\cerik\\appdata\\roaming\\python\\python39\\site-packages (from matplotlib) (2.8.1)\n",
      "Requirement already satisfied: cycler>=0.10 in c:\\users\\cerik\\appdata\\local\\programs\\python\\python39\\lib\\site-packages (from matplotlib) (0.10.0)\n",
      "Requirement already satisfied: pyparsing>=2.2.1 in c:\\users\\cerik\\appdata\\local\\programs\\python\\python39\\lib\\site-packages (from matplotlib) (2.4.7)\n",
      "Requirement already satisfied: kiwisolver>=1.0.1 in c:\\users\\cerik\\appdata\\local\\programs\\python\\python39\\lib\\site-packages (from matplotlib) (1.3.1)\n",
      "Requirement already satisfied: numpy>=1.16 in c:\\users\\cerik\\appdata\\local\\programs\\python\\python39\\lib\\site-packages (from matplotlib) (1.20.3)\n",
      "Requirement already satisfied: six in c:\\users\\cerik\\appdata\\roaming\\python\\python39\\site-packages (from cycler>=0.10->matplotlib) (1.16.0)\n"
     ]
    }
   ],
   "metadata": {}
  },
  {
   "cell_type": "code",
   "execution_count": 2,
   "source": [
    "import pandas as pd\r\n",
    "import numpy as np\r\n",
    "# First, we load the data\r\n",
    "heart_df = pd.read_csv('data/heart.csv')\r\n",
    "\r\n"
   ],
   "outputs": [],
   "metadata": {}
  },
  {
   "cell_type": "code",
   "execution_count": 3,
   "source": [
    "print(heart_df.head())\r\n",
    "print('dataset length:', len(heart_df))\r\n",
    "print('amount of columns:', len(heart_df.columns))\r\n",
    "print('NaNs:', np.any(pd.isna(heart_df)))\r\n",
    "print('Nulls:', np.any(pd.isnull(heart_df)))"
   ],
   "outputs": [
    {
     "output_type": "stream",
     "name": "stdout",
     "text": [
      "   age  sex  cp  trtbps  chol  fbs  restecg  thalachh  exng  oldpeak  slp  \\\n",
      "0   63    1   3     145   233    1        0       150     0      2.3    0   \n",
      "1   37    1   2     130   250    0        1       187     0      3.5    0   \n",
      "2   41    0   1     130   204    0        0       172     0      1.4    2   \n",
      "3   56    1   1     120   236    0        1       178     0      0.8    2   \n",
      "4   57    0   0     120   354    0        1       163     1      0.6    2   \n",
      "\n",
      "   caa  thall  output  \n",
      "0    0      1       1  \n",
      "1    0      2       1  \n",
      "2    0      2       1  \n",
      "3    0      2       1  \n",
      "4    0      2       1  \n",
      "dataset length: 303\n",
      "amount of columns: 14\n",
      "NaNs: False\n",
      "Nulls: False\n"
     ]
    }
   ],
   "metadata": {}
  },
  {
   "cell_type": "markdown",
   "source": [
    "We conclude that the data is clean! At least in the sense that there are no missing values\r\n",
    "\r\n",
    "The data contains a set of features (measurements for persons) as well as a label called 'output'. The label indicates whether or not a person has a higher likelihood of having a heart attack or not. The complete list of columns and what they represent are below:\r\n",
    "\r\n",
    "* age: the subject's age\r\n",
    "* sex: gender\r\n",
    "* cp: chest pain type:\r\n",
    "    - 1: Typical angina\r\n",
    "    - 2: Atypical angina\r\n",
    "    - 3: Non-angical pain\r\n",
    "    - 4: asymptomatic\r\n",
    "* trtbps: Resting blood pressure (in mm Hg)\r\n",
    "* chol: cholesterol in mg/dl (via BMI sensor)\r\n",
    "* fbs: fasting blood sugar > 120mg/dl (1=true, 0=false)\r\n",
    "* rest_ecg : resting electrocardiographic results\r\n",
    "    - 0: normal\r\n",
    "    - 1: having ST-T wave abnormality (T wave inversions and/or ST elevation or depression of > 0.05 mV)\r\n",
    "    - 2: showing probable or definite left ventricular hypertrophy by Estes' criteria\r\n",
    "* thalachh : maximum heart rate achieved\r\n",
    "* exng: exercise induced angina (1=true, 0=false)\r\n",
    "* oldpeak: previous peak blood pressure\r\n",
    "* slp: slope\r\n",
    "* caa: number of major vessels (0-3)\r\n",
    "* thall: Thal rate\r\n",
    "* output: High/Low likelihood of heart attack (0: Low, 1: High)\r\n",
    "\r\n",
    "a link to the dataset can be found at https://www.kaggle.com/rashikrahmanpritom/heart-attack-analysis-prediction-dataset\r\n",
    "\r\n",
    "We note that cp and rest_ecg are categorical values, so we encode those into separate, binary variables instead"
   ],
   "metadata": {}
  },
  {
   "cell_type": "code",
   "execution_count": 4,
   "source": [
    "heart_df[['cp']] = heart_df[['cp']].astype('category')\r\n",
    "cp = heart_df[['cp']]\r\n",
    "heart_df.drop('cp', axis='columns', inplace=True)\r\n",
    "cp = pd.get_dummies(cp)\r\n",
    "\r\n",
    "\r\n",
    "\r\n",
    "heart_df[['restecg']] = heart_df[['restecg']].astype('category')\r\n",
    "restecg = heart_df[['restecg']]\r\n",
    "heart_df.drop('restecg', axis='columns', inplace=True)\r\n",
    "restecg = pd.get_dummies(restecg)\r\n",
    "\r\n",
    "heart_df = pd.concat([restecg, cp, heart_df], axis=1)\r\n",
    "heart_df.head()"
   ],
   "outputs": [
    {
     "output_type": "execute_result",
     "data": {
      "text/plain": [
       "   restecg_0  restecg_1  restecg_2  cp_0  cp_1  cp_2  cp_3  age  sex  trtbps  \\\n",
       "0          1          0          0     0     0     0     1   63    1     145   \n",
       "1          0          1          0     0     0     1     0   37    1     130   \n",
       "2          1          0          0     0     1     0     0   41    0     130   \n",
       "3          0          1          0     0     1     0     0   56    1     120   \n",
       "4          0          1          0     1     0     0     0   57    0     120   \n",
       "\n",
       "   chol  fbs  thalachh  exng  oldpeak  slp  caa  thall  output  \n",
       "0   233    1       150     0      2.3    0    0      1       1  \n",
       "1   250    0       187     0      3.5    0    0      2       1  \n",
       "2   204    0       172     0      1.4    2    0      2       1  \n",
       "3   236    0       178     0      0.8    2    0      2       1  \n",
       "4   354    0       163     1      0.6    2    0      2       1  "
      ],
      "text/html": [
       "<div>\n",
       "<style scoped>\n",
       "    .dataframe tbody tr th:only-of-type {\n",
       "        vertical-align: middle;\n",
       "    }\n",
       "\n",
       "    .dataframe tbody tr th {\n",
       "        vertical-align: top;\n",
       "    }\n",
       "\n",
       "    .dataframe thead th {\n",
       "        text-align: right;\n",
       "    }\n",
       "</style>\n",
       "<table border=\"1\" class=\"dataframe\">\n",
       "  <thead>\n",
       "    <tr style=\"text-align: right;\">\n",
       "      <th></th>\n",
       "      <th>restecg_0</th>\n",
       "      <th>restecg_1</th>\n",
       "      <th>restecg_2</th>\n",
       "      <th>cp_0</th>\n",
       "      <th>cp_1</th>\n",
       "      <th>cp_2</th>\n",
       "      <th>cp_3</th>\n",
       "      <th>age</th>\n",
       "      <th>sex</th>\n",
       "      <th>trtbps</th>\n",
       "      <th>chol</th>\n",
       "      <th>fbs</th>\n",
       "      <th>thalachh</th>\n",
       "      <th>exng</th>\n",
       "      <th>oldpeak</th>\n",
       "      <th>slp</th>\n",
       "      <th>caa</th>\n",
       "      <th>thall</th>\n",
       "      <th>output</th>\n",
       "    </tr>\n",
       "  </thead>\n",
       "  <tbody>\n",
       "    <tr>\n",
       "      <th>0</th>\n",
       "      <td>1</td>\n",
       "      <td>0</td>\n",
       "      <td>0</td>\n",
       "      <td>0</td>\n",
       "      <td>0</td>\n",
       "      <td>0</td>\n",
       "      <td>1</td>\n",
       "      <td>63</td>\n",
       "      <td>1</td>\n",
       "      <td>145</td>\n",
       "      <td>233</td>\n",
       "      <td>1</td>\n",
       "      <td>150</td>\n",
       "      <td>0</td>\n",
       "      <td>2.3</td>\n",
       "      <td>0</td>\n",
       "      <td>0</td>\n",
       "      <td>1</td>\n",
       "      <td>1</td>\n",
       "    </tr>\n",
       "    <tr>\n",
       "      <th>1</th>\n",
       "      <td>0</td>\n",
       "      <td>1</td>\n",
       "      <td>0</td>\n",
       "      <td>0</td>\n",
       "      <td>0</td>\n",
       "      <td>1</td>\n",
       "      <td>0</td>\n",
       "      <td>37</td>\n",
       "      <td>1</td>\n",
       "      <td>130</td>\n",
       "      <td>250</td>\n",
       "      <td>0</td>\n",
       "      <td>187</td>\n",
       "      <td>0</td>\n",
       "      <td>3.5</td>\n",
       "      <td>0</td>\n",
       "      <td>0</td>\n",
       "      <td>2</td>\n",
       "      <td>1</td>\n",
       "    </tr>\n",
       "    <tr>\n",
       "      <th>2</th>\n",
       "      <td>1</td>\n",
       "      <td>0</td>\n",
       "      <td>0</td>\n",
       "      <td>0</td>\n",
       "      <td>1</td>\n",
       "      <td>0</td>\n",
       "      <td>0</td>\n",
       "      <td>41</td>\n",
       "      <td>0</td>\n",
       "      <td>130</td>\n",
       "      <td>204</td>\n",
       "      <td>0</td>\n",
       "      <td>172</td>\n",
       "      <td>0</td>\n",
       "      <td>1.4</td>\n",
       "      <td>2</td>\n",
       "      <td>0</td>\n",
       "      <td>2</td>\n",
       "      <td>1</td>\n",
       "    </tr>\n",
       "    <tr>\n",
       "      <th>3</th>\n",
       "      <td>0</td>\n",
       "      <td>1</td>\n",
       "      <td>0</td>\n",
       "      <td>0</td>\n",
       "      <td>1</td>\n",
       "      <td>0</td>\n",
       "      <td>0</td>\n",
       "      <td>56</td>\n",
       "      <td>1</td>\n",
       "      <td>120</td>\n",
       "      <td>236</td>\n",
       "      <td>0</td>\n",
       "      <td>178</td>\n",
       "      <td>0</td>\n",
       "      <td>0.8</td>\n",
       "      <td>2</td>\n",
       "      <td>0</td>\n",
       "      <td>2</td>\n",
       "      <td>1</td>\n",
       "    </tr>\n",
       "    <tr>\n",
       "      <th>4</th>\n",
       "      <td>0</td>\n",
       "      <td>1</td>\n",
       "      <td>0</td>\n",
       "      <td>1</td>\n",
       "      <td>0</td>\n",
       "      <td>0</td>\n",
       "      <td>0</td>\n",
       "      <td>57</td>\n",
       "      <td>0</td>\n",
       "      <td>120</td>\n",
       "      <td>354</td>\n",
       "      <td>0</td>\n",
       "      <td>163</td>\n",
       "      <td>1</td>\n",
       "      <td>0.6</td>\n",
       "      <td>2</td>\n",
       "      <td>0</td>\n",
       "      <td>2</td>\n",
       "      <td>1</td>\n",
       "    </tr>\n",
       "  </tbody>\n",
       "</table>\n",
       "</div>"
      ]
     },
     "metadata": {},
     "execution_count": 4
    }
   ],
   "metadata": {}
  },
  {
   "cell_type": "markdown",
   "source": [
    "Now, lets plot the correlation"
   ],
   "metadata": {}
  },
  {
   "cell_type": "code",
   "execution_count": 5,
   "source": [
    "\r\n",
    "import numpy as np\r\n",
    "import seaborn\r\n",
    "\r\n",
    "# plot correlation\r\n",
    "corr = heart_df.corr()\r\n",
    "ax = seaborn.heatmap(\r\n",
    "    corr, \r\n",
    "    vmin=-1, vmax=1, center=0,\r\n",
    "    cmap=seaborn.diverging_palette(20, 220, n=200),\r\n",
    "    square=True\r\n",
    ")\r\n",
    "\r\n",
    "ax.set_xticklabels(\r\n",
    "    ax.get_xticklabels(),\r\n",
    "    rotation=45,\r\n",
    "    horizontalalignment='right'\r\n",
    ")"
   ],
   "outputs": [
    {
     "output_type": "execute_result",
     "data": {
      "text/plain": [
       "[Text(0.5, 0, 'restecg_0'),\n",
       " Text(1.5, 0, 'restecg_1'),\n",
       " Text(2.5, 0, 'restecg_2'),\n",
       " Text(3.5, 0, 'cp_0'),\n",
       " Text(4.5, 0, 'cp_1'),\n",
       " Text(5.5, 0, 'cp_2'),\n",
       " Text(6.5, 0, 'cp_3'),\n",
       " Text(7.5, 0, 'age'),\n",
       " Text(8.5, 0, 'sex'),\n",
       " Text(9.5, 0, 'trtbps'),\n",
       " Text(10.5, 0, 'chol'),\n",
       " Text(11.5, 0, 'fbs'),\n",
       " Text(12.5, 0, 'thalachh'),\n",
       " Text(13.5, 0, 'exng'),\n",
       " Text(14.5, 0, 'oldpeak'),\n",
       " Text(15.5, 0, 'slp'),\n",
       " Text(16.5, 0, 'caa'),\n",
       " Text(17.5, 0, 'thall'),\n",
       " Text(18.5, 0, 'output')]"
      ]
     },
     "metadata": {},
     "execution_count": 5
    },
    {
     "output_type": "display_data",
     "data": {
      "text/plain": [
       "<Figure size 432x288 with 2 Axes>"
      ],
      "image/png": "[encoded data removed]"
     },
     "metadata": {
      "needs_background": "light"
     }
    }
   ],
   "metadata": {}
  },
  {
   "cell_type": "markdown",
   "source": [
    "We can see that some columns have a rather weak correlation with the label(the last column in the dataset), especially fbs (fasting blood sugar) at close to 0. Since it is so low, it will likely just introduce noise, so lets exclude it from our dataset"
   ],
   "metadata": {}
  },
  {
   "cell_type": "code",
   "execution_count": 6,
   "source": [
    "heart_df.drop('fbs', axis='columns', inplace=True)"
   ],
   "outputs": [],
   "metadata": {}
  },
  {
   "cell_type": "markdown",
   "source": [
    "As a final exploration, lets do pca to have a way to visualize the data. First of all, it's a good idea to standardize the dataset"
   ],
   "metadata": {}
  },
  {
   "cell_type": "code",
   "execution_count": 7,
   "source": [
    "from sklearn import preprocessing\r\n",
    "\r\n",
    "data = heart_df.values\r\n",
    "std_scaler = preprocessing.StandardScaler()\r\n",
    "std_scaler.fit(data)\r\n",
    "data_scaled = std_scaler.transform(data)\r\n",
    "std_df = pd.DataFrame(data_scaled)\r\n",
    "std_df.columns = heart_df.columns\r\n",
    "std_df.head()"
   ],
   "outputs": [
    {
     "output_type": "execute_result",
     "data": {
      "text/plain": [
       "   restecg_0  restecg_1  restecg_2      cp_0      cp_1      cp_2      cp_3  \\\n",
       "0   1.030158  -1.003306  -0.115663 -0.945384 -0.444554 -0.634648  3.489114   \n",
       "1  -0.970725   0.996705  -0.115663 -0.945384 -0.444554  1.575677 -0.286606   \n",
       "2   1.030158  -1.003306  -0.115663 -0.945384  2.249444 -0.634648 -0.286606   \n",
       "3  -0.970725   0.996705  -0.115663 -0.945384  2.249444 -0.634648 -0.286606   \n",
       "4  -0.970725   0.996705  -0.115663  1.057772 -0.444554 -0.634648 -0.286606   \n",
       "\n",
       "        age       sex    trtbps      chol  thalachh      exng   oldpeak  \\\n",
       "0  0.952197  0.681005  0.763956 -0.256334  0.015443 -0.696631  1.087338   \n",
       "1 -1.915313  0.681005 -0.092738  0.072199  1.633471 -0.696631  2.122573   \n",
       "2 -1.474158 -1.468418 -0.092738 -0.816773  0.977514 -0.696631  0.310912   \n",
       "3  0.180175  0.681005 -0.663867 -0.198357  1.239897 -0.696631 -0.206705   \n",
       "4  0.290464 -1.468418 -0.663867  2.082050  0.583939  1.435481 -0.379244   \n",
       "\n",
       "        slp       caa     thall    output  \n",
       "0 -2.274579 -0.714429 -2.148873  0.914529  \n",
       "1 -2.274579 -0.714429 -0.512922  0.914529  \n",
       "2  0.976352 -0.714429 -0.512922  0.914529  \n",
       "3  0.976352 -0.714429 -0.512922  0.914529  \n",
       "4  0.976352 -0.714429 -0.512922  0.914529  "
      ],
      "text/html": [
       "<div>\n",
       "<style scoped>\n",
       "    .dataframe tbody tr th:only-of-type {\n",
       "        vertical-align: middle;\n",
       "    }\n",
       "\n",
       "    .dataframe tbody tr th {\n",
       "        vertical-align: top;\n",
       "    }\n",
       "\n",
       "    .dataframe thead th {\n",
       "        text-align: right;\n",
       "    }\n",
       "</style>\n",
       "<table border=\"1\" class=\"dataframe\">\n",
       "  <thead>\n",
       "    <tr style=\"text-align: right;\">\n",
       "      <th></th>\n",
       "      <th>restecg_0</th>\n",
       "      <th>restecg_1</th>\n",
       "      <th>restecg_2</th>\n",
       "      <th>cp_0</th>\n",
       "      <th>cp_1</th>\n",
       "      <th>cp_2</th>\n",
       "      <th>cp_3</th>\n",
       "      <th>age</th>\n",
       "      <th>sex</th>\n",
       "      <th>trtbps</th>\n",
       "      <th>chol</th>\n",
       "      <th>thalachh</th>\n",
       "      <th>exng</th>\n",
       "      <th>oldpeak</th>\n",
       "      <th>slp</th>\n",
       "      <th>caa</th>\n",
       "      <th>thall</th>\n",
       "      <th>output</th>\n",
       "    </tr>\n",
       "  </thead>\n",
       "  <tbody>\n",
       "    <tr>\n",
       "      <th>0</th>\n",
       "      <td>1.030158</td>\n",
       "      <td>-1.003306</td>\n",
       "      <td>-0.115663</td>\n",
       "      <td>-0.945384</td>\n",
       "      <td>-0.444554</td>\n",
       "      <td>-0.634648</td>\n",
       "      <td>3.489114</td>\n",
       "      <td>0.952197</td>\n",
       "      <td>0.681005</td>\n",
       "      <td>0.763956</td>\n",
       "      <td>-0.256334</td>\n",
       "      <td>0.015443</td>\n",
       "      <td>-0.696631</td>\n",
       "      <td>1.087338</td>\n",
       "      <td>-2.274579</td>\n",
       "      <td>-0.714429</td>\n",
       "      <td>-2.148873</td>\n",
       "      <td>0.914529</td>\n",
       "    </tr>\n",
       "    <tr>\n",
       "      <th>1</th>\n",
       "      <td>-0.970725</td>\n",
       "      <td>0.996705</td>\n",
       "      <td>-0.115663</td>\n",
       "      <td>-0.945384</td>\n",
       "      <td>-0.444554</td>\n",
       "      <td>1.575677</td>\n",
       "      <td>-0.286606</td>\n",
       "      <td>-1.915313</td>\n",
       "      <td>0.681005</td>\n",
       "      <td>-0.092738</td>\n",
       "      <td>0.072199</td>\n",
       "      <td>1.633471</td>\n",
       "      <td>-0.696631</td>\n",
       "      <td>2.122573</td>\n",
       "      <td>-2.274579</td>\n",
       "      <td>-0.714429</td>\n",
       "      <td>-0.512922</td>\n",
       "      <td>0.914529</td>\n",
       "    </tr>\n",
       "    <tr>\n",
       "      <th>2</th>\n",
       "      <td>1.030158</td>\n",
       "      <td>-1.003306</td>\n",
       "      <td>-0.115663</td>\n",
       "      <td>-0.945384</td>\n",
       "      <td>2.249444</td>\n",
       "      <td>-0.634648</td>\n",
       "      <td>-0.286606</td>\n",
       "      <td>-1.474158</td>\n",
       "      <td>-1.468418</td>\n",
       "      <td>-0.092738</td>\n",
       "      <td>-0.816773</td>\n",
       "      <td>0.977514</td>\n",
       "      <td>-0.696631</td>\n",
       "      <td>0.310912</td>\n",
       "      <td>0.976352</td>\n",
       "      <td>-0.714429</td>\n",
       "      <td>-0.512922</td>\n",
       "      <td>0.914529</td>\n",
       "    </tr>\n",
       "    <tr>\n",
       "      <th>3</th>\n",
       "      <td>-0.970725</td>\n",
       "      <td>0.996705</td>\n",
       "      <td>-0.115663</td>\n",
       "      <td>-0.945384</td>\n",
       "      <td>2.249444</td>\n",
       "      <td>-0.634648</td>\n",
       "      <td>-0.286606</td>\n",
       "      <td>0.180175</td>\n",
       "      <td>0.681005</td>\n",
       "      <td>-0.663867</td>\n",
       "      <td>-0.198357</td>\n",
       "      <td>1.239897</td>\n",
       "      <td>-0.696631</td>\n",
       "      <td>-0.206705</td>\n",
       "      <td>0.976352</td>\n",
       "      <td>-0.714429</td>\n",
       "      <td>-0.512922</td>\n",
       "      <td>0.914529</td>\n",
       "    </tr>\n",
       "    <tr>\n",
       "      <th>4</th>\n",
       "      <td>-0.970725</td>\n",
       "      <td>0.996705</td>\n",
       "      <td>-0.115663</td>\n",
       "      <td>1.057772</td>\n",
       "      <td>-0.444554</td>\n",
       "      <td>-0.634648</td>\n",
       "      <td>-0.286606</td>\n",
       "      <td>0.290464</td>\n",
       "      <td>-1.468418</td>\n",
       "      <td>-0.663867</td>\n",
       "      <td>2.082050</td>\n",
       "      <td>0.583939</td>\n",
       "      <td>1.435481</td>\n",
       "      <td>-0.379244</td>\n",
       "      <td>0.976352</td>\n",
       "      <td>-0.714429</td>\n",
       "      <td>-0.512922</td>\n",
       "      <td>0.914529</td>\n",
       "    </tr>\n",
       "  </tbody>\n",
       "</table>\n",
       "</div>"
      ]
     },
     "metadata": {},
     "execution_count": 7
    }
   ],
   "metadata": {}
  },
  {
   "cell_type": "markdown",
   "source": [
    "Now that the data is standardized we can do the PCA using numpy"
   ],
   "metadata": {}
  },
  {
   "cell_type": "code",
   "execution_count": 8,
   "source": [
    "%matplotlib inline\r\n",
    "from matplotlib import pyplot as plt\r\n",
    "import seaborn as sns\r\n",
    "from sklearn.decomposition import PCA\r\n",
    "\r\n",
    "pca = PCA(2)\r\n",
    "projected = pca.fit_transform(std_df.values)\r\n",
    "plt.scatter(projected[:, 0], projected[:, 1],\r\n",
    "            c=std_df.values[:,-1], edgecolor='none', alpha=0.5,\r\n",
    "            cmap=plt.cm.get_cmap('rainbow', 2))\r\n",
    "plt.xlabel('component 1')\r\n",
    "plt.ylabel('component 2')\r\n",
    "plt.colorbar()"
   ],
   "outputs": [
    {
     "output_type": "execute_result",
     "data": {
      "text/plain": [
       "<matplotlib.colorbar.Colorbar at 0x1805c23af40>"
      ]
     },
     "metadata": {},
     "execution_count": 8
    },
    {
     "output_type": "display_data",
     "data": {
      "text/plain": [
       "<Figure size 432x288 with 2 Axes>"
      ],
      "image/png": "[encoded data removed]"
     },
     "metadata": {
      "needs_background": "light"
     }
    }
   ],
   "metadata": {}
  },
  {
   "cell_type": "markdown",
   "source": [
    "This scatterplot shows the data projected onto the first two principal components, and the labels for each observation. We can see that thanks to the pca, the data seems to relatively linearly separable. Lets try to repeat above but with 3 principal components!"
   ],
   "metadata": {}
  },
  {
   "cell_type": "code",
   "execution_count": 9,
   "source": [
    "pca = PCA(3)\r\n",
    "projected = pca.fit_transform(std_df.values)\r\n",
    "\r\n",
    "fig = plt.figure()\r\n",
    "ax = fig.add_subplot(projection='3d')\r\n",
    "\r\n",
    "ax.scatter(projected[:, 0], projected[:, 1], projected[:, 2],\r\n",
    "            c=std_df.values[:,-1], edgecolor='none', alpha=0.5,\r\n",
    "            cmap=plt.cm.get_cmap('rainbow', 2))\r\n",
    "ax.set_xlabel('component 1')\r\n",
    "ax.set_ylabel('component 2')\r\n",
    "ax.set_ylabel('component 3')\r\n",
    "ax.view_init(azim=90, elev=0)"
   ],
   "outputs": [
    {
     "output_type": "display_data",
     "data": {
      "text/plain": [
       "<Figure size 432x288 with 1 Axes>"
      ],
      "image/png": "[encoded data removed]"
     },
     "metadata": {
      "needs_background": "light"
     }
    }
   ],
   "metadata": {}
  },
  {
   "cell_type": "markdown",
   "source": [
    "Adding one principal component doesnt seem to make the data more separable. Now that we have vizualized the data lets save it for the next step, feature engineering"
   ],
   "metadata": {}
  },
  {
   "cell_type": "code",
   "execution_count": 10,
   "source": [
    "heart_df = heart_df.sample(frac=1) # data is ordered by label so we should shuffle it\r\n",
    "\r\n",
    "\r\n",
    "heart_df.to_csv('data/post_ETL.csv', index=False)\r\n",
    "heart_df.head()"
   ],
   "outputs": [],
   "metadata": {}
  }
 ],
 "metadata": {
  "orig_nbformat": 4,
  "language_info": {
   "name": "python"
  }
 },
 "nbformat": 4,
 "nbformat_minor": 2
}